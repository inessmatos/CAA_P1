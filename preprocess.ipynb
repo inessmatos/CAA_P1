{
 "cells": [
  {
   "cell_type": "code",
   "execution_count": 2,
   "metadata": {},
   "outputs": [
    {
     "name": "stderr",
     "output_type": "stream",
     "text": [
      "c:\\Users\\iness\\AppData\\Local\\Programs\\Python\\Python313\\Lib\\site-packages\\tqdm\\auto.py:21: TqdmWarning: IProgress not found. Please update jupyter and ipywidgets. See https://ipywidgets.readthedocs.io/en/stable/user_install.html\n",
      "  from .autonotebook import tqdm as notebook_tqdm\n"
     ]
    }
   ],
   "source": [
    "import kagglehub , glob , os\n",
    "from sklearn.model_selection import train_test_split\n",
    "import shutil"
   ]
  },
  {
   "cell_type": "code",
   "execution_count": 3,
   "metadata": {},
   "outputs": [
    {
     "name": "stdout",
     "output_type": "stream",
     "text": [
      "Downloading from https://www.kaggle.com/api/v1/datasets/download/asdasdasasdas/garbage-classification?dataset_version_number=2...\n"
     ]
    },
    {
     "name": "stderr",
     "output_type": "stream",
     "text": [
      "100%|██████████| 82.0M/82.0M [00:14<00:00, 5.97MB/s]"
     ]
    },
    {
     "name": "stdout",
     "output_type": "stream",
     "text": [
      "Extracting files...\n"
     ]
    },
    {
     "name": "stderr",
     "output_type": "stream",
     "text": [
      "\n"
     ]
    },
    {
     "data": {
      "text/plain": [
       "'C:\\\\Users\\\\iness\\\\.cache\\\\kagglehub\\\\datasets\\\\asdasdasasdas\\\\garbage-classification\\\\versions\\\\2\\\\Garbage classification\\\\Garbage classification'"
      ]
     },
     "execution_count": 3,
     "metadata": {},
     "output_type": "execute_result"
    }
   ],
   "source": [
    "# Download latest version\n",
    "base_path = kagglehub.dataset_download(\"asdasdasasdas/garbage-classification\")\n",
    "base_path += \"\\\\Garbage classification\\\\Garbage classification\"\n",
    "base_path"
   ]
  },
  {
   "cell_type": "code",
   "execution_count": 4,
   "metadata": {},
   "outputs": [
    {
     "name": "stdout",
     "output_type": "stream",
     "text": [
      "2527\n",
      "C:\\Users\\iness\\.cache\\kagglehub\\datasets\\asdasdasasdas\\garbage-classification\\versions\\2\\Garbage classification\\Garbage classification\\cardboard\\cardboard1.jpg\n"
     ]
    }
   ],
   "source": [
    "img_list = glob.glob(os.path.join(base_path, '*/*.jpg'))\n",
    "print(len(img_list))\n",
    "print(img_list[0])\n"
   ]
  },
  {
   "cell_type": "code",
   "execution_count": 5,
   "metadata": {},
   "outputs": [
    {
     "name": "stdout",
     "output_type": "stream",
     "text": [
      "2021 506\n"
     ]
    }
   ],
   "source": [
    "X_train , X_test  = train_test_split(img_list, test_size=0.2, random_state=42)\n",
    "print(len(X_train), len(X_test))"
   ]
  },
  {
   "cell_type": "code",
   "execution_count": 6,
   "metadata": {},
   "outputs": [],
   "source": [
    "# create train and test folders\n",
    "os.makedirs('train', exist_ok=True)\n",
    "os.makedirs('test', exist_ok=True)\n",
    "# create subfolders for each class\n",
    "for folder in ['cardboard', 'glass', 'metal', 'paper', 'plastic', 'trash']:\n",
    "    os.makedirs(os.path.join('train', folder), exist_ok=True)\n",
    "    os.makedirs(os.path.join('test', folder), exist_ok=True)\n",
    "# copy images to train and test folders\n",
    "for img in X_train:\n",
    "    class_name = img.split('\\\\')[-2]\n",
    "    shutil.copy(img, os.path.join('train', class_name))"
   ]
  },
  {
   "cell_type": "code",
   "execution_count": 7,
   "metadata": {},
   "outputs": [],
   "source": [
    "for img in X_test:\n",
    "    class_name = img.split('\\\\')[-2]\n",
    "    shutil.copy(img, os.path.join('test', class_name))"
   ]
  }
 ],
 "metadata": {
  "kernelspec": {
   "display_name": "Python 3",
   "language": "python",
   "name": "python3"
  },
  "language_info": {
   "codemirror_mode": {
    "name": "ipython",
    "version": 3
   },
   "file_extension": ".py",
   "mimetype": "text/x-python",
   "name": "python",
   "nbconvert_exporter": "python",
   "pygments_lexer": "ipython3",
   "version": "3.13.0"
  }
 },
 "nbformat": 4,
 "nbformat_minor": 2
}
