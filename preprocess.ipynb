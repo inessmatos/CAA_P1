{
 "cells": [
  {
   "cell_type": "code",
   "execution_count": 1,
   "metadata": {},
   "outputs": [
    {
     "name": "stderr",
     "output_type": "stream",
     "text": [
      "/mnt/c/Users/kkiko/Desktop/CAA/CAA_P1/.venv/lib/python3.11/site-packages/tqdm/auto.py:21: TqdmWarning: IProgress not found. Please update jupyter and ipywidgets. See https://ipywidgets.readthedocs.io/en/stable/user_install.html\n",
      "  from .autonotebook import tqdm as notebook_tqdm\n"
     ]
    }
   ],
   "source": [
    "import kagglehub , glob , os\n",
    "from sklearn.model_selection import train_test_split\n",
    "import shutil"
   ]
  },
  {
   "cell_type": "code",
   "execution_count": 2,
   "metadata": {},
   "outputs": [
    {
     "data": {
      "text/plain": [
       "'/root/.cache/kagglehub/datasets/asdasdasasdas/garbage-classification/versions/2/Garbage classification/Garbage classification'"
      ]
     },
     "execution_count": 2,
     "metadata": {},
     "output_type": "execute_result"
    }
   ],
   "source": [
    "# Download latest version\n",
    "base_path = kagglehub.dataset_download(\"asdasdasasdas/garbage-classification\")\n",
    "base_path += \"/Garbage classification/Garbage classification\"\n",
    "base_path"
   ]
  },
  {
   "cell_type": "code",
   "execution_count": 3,
   "metadata": {},
   "outputs": [
    {
     "name": "stdout",
     "output_type": "stream",
     "text": [
      "2527\n",
      "/root/.cache/kagglehub/datasets/asdasdasasdas/garbage-classification/versions/2/Garbage classification/Garbage classification/trash/trash67.jpg\n"
     ]
    }
   ],
   "source": [
    "img_list = glob.glob(os.path.join(base_path, '*/*.jpg'))\n",
    "print(len(img_list))\n",
    "print(img_list[0])\n"
   ]
  },
  {
   "cell_type": "code",
   "execution_count": 4,
   "metadata": {},
   "outputs": [
    {
     "name": "stdout",
     "output_type": "stream",
     "text": [
      "2274 253\n"
     ]
    }
   ],
   "source": [
    "X_train , X_test  = train_test_split(img_list, test_size=0.1, random_state=1)\n",
    "print(len(X_train), len(X_test))"
   ]
  },
  {
   "cell_type": "code",
   "execution_count": 5,
   "metadata": {},
   "outputs": [],
   "source": [
    "# create train and test folders\n",
    "os.makedirs('train', exist_ok=True)\n",
    "os.makedirs('test', exist_ok=True)\n",
    "for folder in ['cardboard', 'glass', 'metal', 'paper', 'plastic', 'trash']:\n",
    "    os.makedirs(os.path.join('train', folder), exist_ok=True)\n",
    "    os.makedirs(os.path.join('test', folder), exist_ok=True)\n",
    "\n",
    "for img in X_train:\n",
    "    class_name = img.split('/')[-2]\n",
    "    shutil.copy(img, os.path.join('train', class_name))\n",
    "for img in X_test:\n",
    "    class_name = img.split('/')[-2]\n",
    "    shutil.copy(img, os.path.join('test', class_name))"
   ]
  }
 ],
 "metadata": {
  "kernelspec": {
   "display_name": ".venv",
   "language": "python",
   "name": "python3"
  },
  "language_info": {
   "codemirror_mode": {
    "name": "ipython",
    "version": 3
   },
   "file_extension": ".py",
   "mimetype": "text/x-python",
   "name": "python",
   "nbconvert_exporter": "python",
   "pygments_lexer": "ipython3",
   "version": "3.11.7"
  }
 },
 "nbformat": 4,
 "nbformat_minor": 2
}
